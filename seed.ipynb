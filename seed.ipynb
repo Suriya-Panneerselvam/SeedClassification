{
  "cells": [
    {
      "cell_type": "markdown",
      "metadata": {
        "id": "view-in-github",
        "colab_type": "text"
      },
      "source": [
        "<a href=\"https://colab.research.google.com/github/Suriya-Panneerselvam/SeedClassification/blob/main/seed.ipynb\" target=\"_parent\"><img src=\"https://colab.research.google.com/assets/colab-badge.svg\" alt=\"Open In Colab\"/></a>"
      ]
    },
    {
      "cell_type": "code",
      "execution_count": null,
      "metadata": {
        "colab": {
          "base_uri": "https://localhost:8080/"
        },
        "id": "VIgyZYYrFlG1",
        "outputId": "005e2a35-5bc7-4ac4-cf7b-a7f2974edb89"
      },
      "outputs": [
        {
          "output_type": "stream",
          "name": "stdout",
          "text": [
            "Mounted at /content/drive\n"
          ]
        }
      ],
      "source": [
        "from google.colab import drive\n",
        "drive.mount('/content/drive')"
      ]
    },
    {
      "cell_type": "code",
      "execution_count": null,
      "metadata": {
        "colab": {
          "base_uri": "https://localhost:8080/"
        },
        "id": "DZhbMxCXE5gi",
        "outputId": "fa499449-8f7f-423d-f9fb-5c46829571e4"
      },
      "outputs": [
        {
          "output_type": "stream",
          "name": "stdout",
          "text": [
            "The accuracy score of decision tree: 0.8833333333333333\n",
            "The confusion metrics of data:\n",
            " [[15  1  3]\n",
            " [ 0 21  0]\n",
            " [ 3  0 17]]\n",
            "The accuracy score of confusion metrics: 0.8833333333333333\n",
            "The classification report of data:\n",
            "               precision    recall  f1-score   support\n",
            "\n",
            "           1       0.83      0.79      0.81        19\n",
            "           2       0.95      1.00      0.98        21\n",
            "           3       0.85      0.85      0.85        20\n",
            "\n",
            "    accuracy                           0.88        60\n",
            "   macro avg       0.88      0.88      0.88        60\n",
            "weighted avg       0.88      0.88      0.88        60\n",
            "\n",
            "Enter Area value:88\n",
            "Enter Perimeter value:56\n",
            "Enter Compactness value:76\n",
            "Enter Kernel Length value:87\n",
            "Enter Kernel Width value:56\n",
            "Enter Asymmetry Coeff value:38\n",
            "Enter Kernel Groove value:97\n",
            "The prediction: [2]\n",
            "The seed is type 2\n"
          ]
        },
        {
          "output_type": "stream",
          "name": "stderr",
          "text": [
            "/usr/local/lib/python3.11/dist-packages/sklearn/utils/validation.py:2739: UserWarning: X does not have valid feature names, but DecisionTreeClassifier was fitted with feature names\n",
            "  warnings.warn(\n"
          ]
        }
      ],
      "source": [
        "import pandas as pd\n",
        "from sklearn.model_selection import train_test_split\n",
        "from sklearn.tree import DecisionTreeClassifier\n",
        "from sklearn import metrics\n",
        "from sklearn.metrics import accuracy_score,confusion_matrix, classification_report\n",
        "import numpy as np\n",
        "import pickle\n",
        "\n",
        "#importing data\n",
        "data=pd.read_csv('/content/drive/MyDrive/seeds (1).csv')\n",
        "data.head()\n",
        "\n",
        "#spliting the data\n",
        "x=data.iloc[:,0:7]\n",
        "y=data.iloc[:,-1]\n",
        "\n",
        "x_train,x_test,y_train,y_test=train_test_split(x,y,test_size=0.30)\n",
        "\n",
        "#decision tree\n",
        "model=DecisionTreeClassifier()\n",
        "model.fit(x_train,y_train)\n",
        "\n",
        "y_pred=model.predict(x_test)\n",
        "model_accuracy=accuracy_score(y_test,y_pred)\n",
        "print ('The accuracy score of decision tree:',model_accuracy)\n",
        "\n",
        "#confusion matrics\n",
        "print('The confusion metrics of data:\\n',confusion_matrix(y_test,y_pred))\n",
        "\n",
        "#confusion matrics accuracy score\n",
        "metrics_accuracy=metrics.accuracy_score(y_test,y_pred)\n",
        "print('The accuracy score of confusion metrics:',metrics_accuracy)\n",
        "\n",
        "#classification report\n",
        "print('The classification report of data:\\n',classification_report(y_test,y_pred))\n",
        "\n",
        "#softwere convertion\n",
        "with open('seed.pkl','wb') as file:\n",
        "    pickle.dump(model,file)\n",
        "with open('seed.pkl','rb') as file:\n",
        "    model=pickle.load(file)\n",
        "\n",
        "#testing the model\n",
        "Area=int(input(\"Enter Area value:\"))\n",
        "Perimeter=int(input('Enter Perimeter value:'))\n",
        "Compactness=int(input('Enter Compactness value:'))\n",
        "Kernel_Length=int(input('Enter Kernel Length value:'))\n",
        "Kernel_Width=int(input('Enter Kernel Width value:'))\n",
        "Asymmetry_Coeff=float(input('Enter Asymmetry Coeff value:'))\n",
        "Kernel_Groove=float(input('Enter Kernel Groove value:'))\n",
        "\n",
        "input=np.array([[Area,Perimeter,Compactness,Kernel_Length,Kernel_Width,Asymmetry_Coeff,Kernel_Groove]])\n",
        "\n",
        "prediction=model.predict(input)\n",
        "\n",
        "#final prediction output\n",
        "print('The prediction:',prediction)\n",
        "if prediction==1:\n",
        "    print('The seed is type 1')\n",
        "elif prediction==2:\n",
        "    print('The seed is type 2')\n",
        "else:\n",
        "    print('The seed is type 3')"
      ]
    }
  ],
  "metadata": {
    "colab": {
      "provenance": [],
      "include_colab_link": true
    },
    "kernelspec": {
      "display_name": "Python 3",
      "name": "python3"
    },
    "language_info": {
      "name": "python"
    }
  },
  "nbformat": 4,
  "nbformat_minor": 0
}